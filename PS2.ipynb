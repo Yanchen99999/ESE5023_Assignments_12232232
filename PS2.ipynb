{
 "cells": [
  {
   "cell_type": "code",
   "execution_count": 1,
   "id": "fe5b5fd2",
   "metadata": {},
   "outputs": [],
   "source": [
    "import pandas as pd\n",
    "import numpy as np\n",
    "from matplotlib import pyplot as plt\n",
    "%matplotlib inline"
   ]
  },
  {
   "cell_type": "code",
   "execution_count": 2,
   "id": "118d25d2",
   "metadata": {},
   "outputs": [
    {
     "data": {
      "text/html": [
       "<div>\n",
       "<style scoped>\n",
       "    .dataframe tbody tr th:only-of-type {\n",
       "        vertical-align: middle;\n",
       "    }\n",
       "\n",
       "    .dataframe tbody tr th {\n",
       "        vertical-align: top;\n",
       "    }\n",
       "\n",
       "    .dataframe thead th {\n",
       "        text-align: right;\n",
       "    }\n",
       "</style>\n",
       "<table border=\"1\" class=\"dataframe\">\n",
       "  <thead>\n",
       "    <tr style=\"text-align: right;\">\n",
       "      <th></th>\n",
       "      <th>Search Parameters</th>\n",
       "      <th>Year</th>\n",
       "      <th>Mo</th>\n",
       "      <th>Dy</th>\n",
       "      <th>Hr</th>\n",
       "      <th>Mn</th>\n",
       "      <th>Sec</th>\n",
       "      <th>Tsu</th>\n",
       "      <th>Vol</th>\n",
       "      <th>Country</th>\n",
       "      <th>...</th>\n",
       "      <th>Total Missing</th>\n",
       "      <th>Total Missing Description</th>\n",
       "      <th>Total Injuries</th>\n",
       "      <th>Total Injuries Description</th>\n",
       "      <th>Total Damage ($Mil)</th>\n",
       "      <th>Total Damage Description</th>\n",
       "      <th>Total Houses Destroyed</th>\n",
       "      <th>Total Houses Destroyed Description</th>\n",
       "      <th>Total Houses Damaged</th>\n",
       "      <th>Total Houses Damaged Description</th>\n",
       "    </tr>\n",
       "  </thead>\n",
       "  <tbody>\n",
       "    <tr>\n",
       "      <th>0</th>\n",
       "      <td>[]</td>\n",
       "      <td>NaN</td>\n",
       "      <td>NaN</td>\n",
       "      <td>NaN</td>\n",
       "      <td>NaN</td>\n",
       "      <td>NaN</td>\n",
       "      <td>NaN</td>\n",
       "      <td>NaN</td>\n",
       "      <td>NaN</td>\n",
       "      <td>NaN</td>\n",
       "      <td>...</td>\n",
       "      <td>NaN</td>\n",
       "      <td>NaN</td>\n",
       "      <td>NaN</td>\n",
       "      <td>NaN</td>\n",
       "      <td>NaN</td>\n",
       "      <td>NaN</td>\n",
       "      <td>NaN</td>\n",
       "      <td>NaN</td>\n",
       "      <td>NaN</td>\n",
       "      <td>NaN</td>\n",
       "    </tr>\n",
       "    <tr>\n",
       "      <th>1</th>\n",
       "      <td>NaN</td>\n",
       "      <td>-2150.0</td>\n",
       "      <td>NaN</td>\n",
       "      <td>NaN</td>\n",
       "      <td>NaN</td>\n",
       "      <td>NaN</td>\n",
       "      <td>0.0</td>\n",
       "      <td>NaN</td>\n",
       "      <td>NaN</td>\n",
       "      <td>JORDAN</td>\n",
       "      <td>...</td>\n",
       "      <td>NaN</td>\n",
       "      <td>NaN</td>\n",
       "      <td>NaN</td>\n",
       "      <td>NaN</td>\n",
       "      <td>NaN</td>\n",
       "      <td>NaN</td>\n",
       "      <td>NaN</td>\n",
       "      <td>NaN</td>\n",
       "      <td>NaN</td>\n",
       "      <td>NaN</td>\n",
       "    </tr>\n",
       "    <tr>\n",
       "      <th>2</th>\n",
       "      <td>NaN</td>\n",
       "      <td>-2000.0</td>\n",
       "      <td>NaN</td>\n",
       "      <td>NaN</td>\n",
       "      <td>NaN</td>\n",
       "      <td>NaN</td>\n",
       "      <td>NaN</td>\n",
       "      <td>1.0</td>\n",
       "      <td>NaN</td>\n",
       "      <td>SYRIA</td>\n",
       "      <td>...</td>\n",
       "      <td>NaN</td>\n",
       "      <td>NaN</td>\n",
       "      <td>NaN</td>\n",
       "      <td>NaN</td>\n",
       "      <td>NaN</td>\n",
       "      <td>NaN</td>\n",
       "      <td>NaN</td>\n",
       "      <td>NaN</td>\n",
       "      <td>NaN</td>\n",
       "      <td>NaN</td>\n",
       "    </tr>\n",
       "    <tr>\n",
       "      <th>3</th>\n",
       "      <td>NaN</td>\n",
       "      <td>-2000.0</td>\n",
       "      <td>NaN</td>\n",
       "      <td>NaN</td>\n",
       "      <td>NaN</td>\n",
       "      <td>NaN</td>\n",
       "      <td>NaN</td>\n",
       "      <td>NaN</td>\n",
       "      <td>NaN</td>\n",
       "      <td>TURKMENISTAN</td>\n",
       "      <td>...</td>\n",
       "      <td>NaN</td>\n",
       "      <td>NaN</td>\n",
       "      <td>NaN</td>\n",
       "      <td>NaN</td>\n",
       "      <td>NaN</td>\n",
       "      <td>1.0</td>\n",
       "      <td>NaN</td>\n",
       "      <td>1.0</td>\n",
       "      <td>NaN</td>\n",
       "      <td>NaN</td>\n",
       "    </tr>\n",
       "    <tr>\n",
       "      <th>4</th>\n",
       "      <td>NaN</td>\n",
       "      <td>-1610.0</td>\n",
       "      <td>NaN</td>\n",
       "      <td>NaN</td>\n",
       "      <td>NaN</td>\n",
       "      <td>NaN</td>\n",
       "      <td>NaN</td>\n",
       "      <td>3.0</td>\n",
       "      <td>1351.0</td>\n",
       "      <td>GREECE</td>\n",
       "      <td>...</td>\n",
       "      <td>NaN</td>\n",
       "      <td>NaN</td>\n",
       "      <td>NaN</td>\n",
       "      <td>NaN</td>\n",
       "      <td>NaN</td>\n",
       "      <td>3.0</td>\n",
       "      <td>NaN</td>\n",
       "      <td>NaN</td>\n",
       "      <td>NaN</td>\n",
       "      <td>NaN</td>\n",
       "    </tr>\n",
       "  </tbody>\n",
       "</table>\n",
       "<p>5 rows × 48 columns</p>\n",
       "</div>"
      ],
      "text/plain": [
       "  Search Parameters    Year  Mo  Dy  Hr  Mn  Sec  Tsu     Vol       Country  \\\n",
       "0                []     NaN NaN NaN NaN NaN  NaN  NaN     NaN           NaN   \n",
       "1               NaN -2150.0 NaN NaN NaN NaN  0.0  NaN     NaN        JORDAN   \n",
       "2               NaN -2000.0 NaN NaN NaN NaN  NaN  1.0     NaN         SYRIA   \n",
       "3               NaN -2000.0 NaN NaN NaN NaN  NaN  NaN     NaN  TURKMENISTAN   \n",
       "4               NaN -1610.0 NaN NaN NaN NaN  NaN  3.0  1351.0        GREECE   \n",
       "\n",
       "   ... Total Missing  Total Missing Description Total Injuries  \\\n",
       "0  ...           NaN                        NaN            NaN   \n",
       "1  ...           NaN                        NaN            NaN   \n",
       "2  ...           NaN                        NaN            NaN   \n",
       "3  ...           NaN                        NaN            NaN   \n",
       "4  ...           NaN                        NaN            NaN   \n",
       "\n",
       "   Total Injuries Description  Total Damage ($Mil)  Total Damage Description  \\\n",
       "0                         NaN                  NaN                       NaN   \n",
       "1                         NaN                  NaN                       NaN   \n",
       "2                         NaN                  NaN                       NaN   \n",
       "3                         NaN                  NaN                       1.0   \n",
       "4                         NaN                  NaN                       3.0   \n",
       "\n",
       "   Total Houses Destroyed  Total Houses Destroyed Description  \\\n",
       "0                     NaN                                 NaN   \n",
       "1                     NaN                                 NaN   \n",
       "2                     NaN                                 NaN   \n",
       "3                     NaN                                 1.0   \n",
       "4                     NaN                                 NaN   \n",
       "\n",
       "   Total Houses Damaged  Total Houses Damaged Description  \n",
       "0                   NaN                               NaN  \n",
       "1                   NaN                               NaN  \n",
       "2                   NaN                               NaN  \n",
       "3                   NaN                               NaN  \n",
       "4                   NaN                               NaN  \n",
       "\n",
       "[5 rows x 48 columns]"
      ]
     },
     "execution_count": 2,
     "metadata": {},
     "output_type": "execute_result"
    }
   ],
   "source": [
    "# 1 \n",
    "# read the tsv file\n",
    "Sig_Eqs = pd.read_csv('earthquakes-2022-10-19_17-21-49_+0800.tsv', sep='\\t')\n",
    "Sig_Eqs.head()"
   ]
  },
  {
   "cell_type": "code",
   "execution_count": 3,
   "id": "9f412b4e",
   "metadata": {},
   "outputs": [
    {
     "data": {
      "text/plain": [
       "Country\n",
       "CHINA           2075019.0\n",
       "TURKEY          1134569.0\n",
       "IRAN            1011446.0\n",
       "ITALY            498477.0\n",
       "SYRIA            439224.0\n",
       "HAITI            323474.0\n",
       "AZERBAIJAN       317219.0\n",
       "JAPAN            278142.0\n",
       "ARMENIA          191890.0\n",
       "PAKISTAN         145083.0\n",
       "IRAQ             136200.0\n",
       "ECUADOR          135479.0\n",
       "TURKMENISTAN     117412.0\n",
       "PERU             102219.0\n",
       "ISRAEL            90388.0\n",
       "PORTUGAL          83531.0\n",
       "GREECE            79174.0\n",
       "CHILE             64276.0\n",
       "INDIA             63491.0\n",
       "TAIWAN            57135.0\n",
       "Name: Deaths, dtype: float64"
      ]
     },
     "execution_count": 3,
     "metadata": {},
     "output_type": "execute_result"
    }
   ],
   "source": [
    "#1.1\n",
    "Sig_Eqs.groupby(['Country']).sum().sort_values(['Deaths'],ascending=False)['Deaths'][0:20]"
   ]
  },
  {
   "cell_type": "code",
   "execution_count": 4,
   "id": "8ceafb31",
   "metadata": {},
   "outputs": [
    {
     "data": {
      "text/plain": [
       "<AxesSubplot:xlabel='Year'>"
      ]
     },
     "execution_count": 4,
     "metadata": {},
     "output_type": "execute_result"
    },
    {
     "data": {
      "image/png": "[encoded data removed]",
      "text/plain": [
       "<Figure size 432x288 with 1 Axes>"
      ]
     },
     "metadata": {
      "needs_background": "light"
     },
     "output_type": "display_data"
    }
   ],
   "source": [
    "# 1.2\n",
    "Sig_Eqs.loc[Sig_Eqs['Ms']>3.0].groupby(['Year']).count().loc[:,['Country']].plot()"
   ]
  },
  {
   "cell_type": "code",
   "execution_count": 5,
   "id": "8a05a7c0",
   "metadata": {},
   "outputs": [
    {
     "name": "stderr",
     "output_type": "stream",
     "text": [
      "C:\\Users\\李彦辰\\AppData\\Local\\Temp/ipykernel_26296/2966024305.py:8: SettingWithCopyWarning: \n",
      "A value is trying to be set on a copy of a slice from a DataFrame\n",
      "\n",
      "See the caveats in the documentation: https://pandas.pydata.org/pandas-docs/stable/user_guide/indexing.html#returning-a-view-versus-a-copy\n",
      "  df['cMo'][df['Mo'] < 10] = '0' + df['cMo'].astype(str)\n",
      "C:\\Users\\李彦辰\\AppData\\Local\\Temp/ipykernel_26296/2966024305.py:9: SettingWithCopyWarning: \n",
      "A value is trying to be set on a copy of a slice from a DataFrame\n",
      "\n",
      "See the caveats in the documentation: https://pandas.pydata.org/pandas-docs/stable/user_guide/indexing.html#returning-a-view-versus-a-copy\n",
      "  df['cDy'][df['Dy'] < 10] = '0' + df['cDy'].astype(str)\n",
      "C:\\Users\\李彦辰\\AppData\\Local\\Temp/ipykernel_26296/2966024305.py:18: UserWarning: Boolean Series key will be reindexed to match DataFrame index.\n",
      "  df3 = df2[df['Ms'] == df2['Ms'].max()][['Country','Location Name','Ms','DATE']]\n"
     ]
    },
    {
     "data": {
      "text/html": [
       "<div>\n",
       "<style scoped>\n",
       "    .dataframe tbody tr th:only-of-type {\n",
       "        vertical-align: middle;\n",
       "    }\n",
       "\n",
       "    .dataframe tbody tr th {\n",
       "        vertical-align: top;\n",
       "    }\n",
       "\n",
       "    .dataframe thead th {\n",
       "        text-align: right;\n",
       "    }\n",
       "</style>\n",
       "<table border=\"1\" class=\"dataframe\">\n",
       "  <thead>\n",
       "    <tr style=\"text-align: right;\">\n",
       "      <th></th>\n",
       "      <th>Country</th>\n",
       "      <th>Location Name</th>\n",
       "      <th>Ms</th>\n",
       "      <th>DATE</th>\n",
       "      <th>Total_Number</th>\n",
       "    </tr>\n",
       "  </thead>\n",
       "  <tbody>\n",
       "    <tr>\n",
       "      <th>0</th>\n",
       "      <td>CHINA</td>\n",
       "      <td>CHINA:  GANSU PROVINCE, SHANXI PROVINCE</td>\n",
       "      <td>8.6</td>\n",
       "      <td>1920.0/12.0/16.0</td>\n",
       "      <td>616.0</td>\n",
       "    </tr>\n",
       "    <tr>\n",
       "      <th>1</th>\n",
       "      <td>JAPAN</td>\n",
       "      <td>JAPAN:  SANRIKU</td>\n",
       "      <td>8.6</td>\n",
       "      <td>869.0/07.0/13.0</td>\n",
       "      <td>411.0</td>\n",
       "    </tr>\n",
       "    <tr>\n",
       "      <th>2</th>\n",
       "      <td>JAPAN</td>\n",
       "      <td>JAPAN:  NANKAIDO</td>\n",
       "      <td>8.6</td>\n",
       "      <td>887.0/08.0/26.0</td>\n",
       "      <td>411.0</td>\n",
       "    </tr>\n",
       "    <tr>\n",
       "      <th>3</th>\n",
       "      <td>INDONESIA</td>\n",
       "      <td>INDONESIA:  SUMATRA:  ACEH:  OFF WEST COAST</td>\n",
       "      <td>8.8</td>\n",
       "      <td>2004.0/12.0/26.0</td>\n",
       "      <td>405.0</td>\n",
       "    </tr>\n",
       "    <tr>\n",
       "      <th>4</th>\n",
       "      <td>IRAN</td>\n",
       "      <td>IRAN:  DAMGHAN, QUMIS</td>\n",
       "      <td>7.9</td>\n",
       "      <td>856.0/12.0/22.0</td>\n",
       "      <td>384.0</td>\n",
       "    </tr>\n",
       "    <tr>\n",
       "      <th>...</th>\n",
       "      <td>...</td>\n",
       "      <td>...</td>\n",
       "      <td>...</td>\n",
       "      <td>...</td>\n",
       "      <td>...</td>\n",
       "    </tr>\n",
       "    <tr>\n",
       "      <th>147</th>\n",
       "      <td>WALLIS AND FUTUNA (FRENCH TERRITORY)</td>\n",
       "      <td>FUTUNA ISLAND</td>\n",
       "      <td>6.4</td>\n",
       "      <td>1993.0/03.0/12.0</td>\n",
       "      <td>1.0</td>\n",
       "    </tr>\n",
       "    <tr>\n",
       "      <th>148</th>\n",
       "      <td>SUDAN</td>\n",
       "      <td>SUDAN:  KHARTOUM</td>\n",
       "      <td>5.1</td>\n",
       "      <td>1993.0/08.0/01.0</td>\n",
       "      <td>1.0</td>\n",
       "    </tr>\n",
       "    <tr>\n",
       "      <th>149</th>\n",
       "      <td>GABON</td>\n",
       "      <td>GABON</td>\n",
       "      <td>6.2</td>\n",
       "      <td>1974.0/09.0/23.0</td>\n",
       "      <td>1.0</td>\n",
       "    </tr>\n",
       "    <tr>\n",
       "      <th>150</th>\n",
       "      <td>NORWAY</td>\n",
       "      <td>NORWAY: RANA REGION: LUROY</td>\n",
       "      <td>5.8</td>\n",
       "      <td>1819.0/08.0/31.0</td>\n",
       "      <td>1.0</td>\n",
       "    </tr>\n",
       "    <tr>\n",
       "      <th>151</th>\n",
       "      <td>PALAU</td>\n",
       "      <td>MICRONESIA, FED. STATES OF:  CAROLINE ISLANDS</td>\n",
       "      <td>7.6</td>\n",
       "      <td>1914.0/10.0/23.0</td>\n",
       "      <td>1.0</td>\n",
       "    </tr>\n",
       "  </tbody>\n",
       "</table>\n",
       "<p>152 rows × 5 columns</p>\n",
       "</div>"
      ],
      "text/plain": [
       "                                  Country  \\\n",
       "0                                   CHINA   \n",
       "1                                   JAPAN   \n",
       "2                                   JAPAN   \n",
       "3                               INDONESIA   \n",
       "4                                    IRAN   \n",
       "..                                    ...   \n",
       "147  WALLIS AND FUTUNA (FRENCH TERRITORY)   \n",
       "148                                 SUDAN   \n",
       "149                                 GABON   \n",
       "150                                NORWAY   \n",
       "151                                 PALAU   \n",
       "\n",
       "                                     Location Name   Ms              DATE  \\\n",
       "0          CHINA:  GANSU PROVINCE, SHANXI PROVINCE  8.6  1920.0/12.0/16.0   \n",
       "1                                  JAPAN:  SANRIKU  8.6   869.0/07.0/13.0   \n",
       "2                                 JAPAN:  NANKAIDO  8.6   887.0/08.0/26.0   \n",
       "3      INDONESIA:  SUMATRA:  ACEH:  OFF WEST COAST  8.8  2004.0/12.0/26.0   \n",
       "4                            IRAN:  DAMGHAN, QUMIS  7.9   856.0/12.0/22.0   \n",
       "..                                             ...  ...               ...   \n",
       "147                                  FUTUNA ISLAND  6.4  1993.0/03.0/12.0   \n",
       "148                               SUDAN:  KHARTOUM  5.1  1993.0/08.0/01.0   \n",
       "149                                          GABON  6.2  1974.0/09.0/23.0   \n",
       "150                     NORWAY: RANA REGION: LUROY  5.8  1819.0/08.0/31.0   \n",
       "151  MICRONESIA, FED. STATES OF:  CAROLINE ISLANDS  7.6  1914.0/10.0/23.0   \n",
       "\n",
       "     Total_Number  \n",
       "0           616.0  \n",
       "1           411.0  \n",
       "2           411.0  \n",
       "3           405.0  \n",
       "4           384.0  \n",
       "..            ...  \n",
       "147           1.0  \n",
       "148           1.0  \n",
       "149           1.0  \n",
       "150           1.0  \n",
       "151           1.0  \n",
       "\n",
       "[152 rows x 5 columns]"
      ]
     },
     "execution_count": 5,
     "metadata": {},
     "output_type": "execute_result"
    }
   ],
   "source": [
    "# 1.3\n",
    "df = Sig_Eqs.loc[:,['Country','Ms','Location Name','Year','Mo','Dy']]\n",
    "Country_List = df['Country'].unique()\n",
    "\n",
    "df['cYear'] = df['Year'].astype(str)\n",
    "df['cMo'] = df['Mo'].astype(str)\n",
    "df['cDy'] = df['Dy'].astype(str)\n",
    "df['cMo'][df['Mo'] < 10] = '0' + df['cMo'].astype(str)\n",
    "df['cDy'][df['Dy'] < 10] = '0' + df['cDy'].astype(str)\n",
    "df['DATE'] = df['cYear'] + '/' + df['cMo'] + '/' + df['cDy']\n",
    "df\n",
    "\n",
    "re = pd.DataFrame(columns=['Country','Location Name','Ms','DATE'])\n",
    "re\n",
    "\n",
    "def CountEq_LargestEq(i):\n",
    "    df2 = df[df['Country'] == str(i)]\n",
    "    df3 = df2[df['Ms'] == df2['Ms'].max()][['Country','Location Name','Ms','DATE']]\n",
    "    df3['Total_Number'] = df[df['Country'] == str(i)]['Country'].count()\n",
    "    global re\n",
    "    re = re.append(df3)\n",
    "for x in Country_List:\n",
    "    CountEq_LargestEq(x)\n",
    "\n",
    "re.sort_values('Total_Number',ascending=False,ignore_index=True)"
   ]
  },
  {
   "cell_type": "code",
   "execution_count": 7,
   "id": "bfd35143",
   "metadata": {},
   "outputs": [
    {
     "name": "stderr",
     "output_type": "stream",
     "text": [
      "D:\\LI_YANCHEN\\APP_INSTALL\\Anaconda3\\lib\\site-packages\\IPython\\core\\interactiveshell.py:3444: DtypeWarning: Columns (4,8,9,10,11,14,15,24,25,27,29,31,34,37,38,40,41,45,49,50) have mixed types.Specify dtype option on import or set low_memory=False.\n",
      "  exec(code_obj, self.user_global_ns, self.user_ns)\n"
     ]
    },
    {
     "data": {
      "text/html": [
       "<div>\n",
       "<style scoped>\n",
       "    .dataframe tbody tr th:only-of-type {\n",
       "        vertical-align: middle;\n",
       "    }\n",
       "\n",
       "    .dataframe tbody tr th {\n",
       "        vertical-align: top;\n",
       "    }\n",
       "\n",
       "    .dataframe thead th {\n",
       "        text-align: right;\n",
       "    }\n",
       "</style>\n",
       "<table border=\"1\" class=\"dataframe\">\n",
       "  <thead>\n",
       "    <tr style=\"text-align: right;\">\n",
       "      <th></th>\n",
       "      <th>STATION</th>\n",
       "      <th>DATE</th>\n",
       "      <th>SOURCE</th>\n",
       "      <th>REPORT_TYPE</th>\n",
       "      <th>CALL_SIGN</th>\n",
       "      <th>QUALITY_CONTROL</th>\n",
       "      <th>AA1</th>\n",
       "      <th>AA2</th>\n",
       "      <th>AA3</th>\n",
       "      <th>AG1</th>\n",
       "      <th>...</th>\n",
       "      <th>REPORT_TYPE.1</th>\n",
       "      <th>SA1</th>\n",
       "      <th>SLP</th>\n",
       "      <th>SOURCE.1</th>\n",
       "      <th>TMP</th>\n",
       "      <th>UA1</th>\n",
       "      <th>UG1</th>\n",
       "      <th>VIS</th>\n",
       "      <th>WG1</th>\n",
       "      <th>WND</th>\n",
       "    </tr>\n",
       "  </thead>\n",
       "  <tbody>\n",
       "    <tr>\n",
       "      <th>0</th>\n",
       "      <td>59493099999</td>\n",
       "      <td>1998-01-01T00:00:00</td>\n",
       "      <td>4</td>\n",
       "      <td>SY-MT</td>\n",
       "      <td>ZGSZ</td>\n",
       "      <td>V020</td>\n",
       "      <td>06,0000,9,1</td>\n",
       "      <td>NaN</td>\n",
       "      <td>NaN</td>\n",
       "      <td>0,000</td>\n",
       "      <td>...</td>\n",
       "      <td>SY-MT</td>\n",
       "      <td>NaN</td>\n",
       "      <td>10184,1</td>\n",
       "      <td>4</td>\n",
       "      <td>+0186,1</td>\n",
       "      <td>NaN</td>\n",
       "      <td>NaN</td>\n",
       "      <td>008000,1,N,1</td>\n",
       "      <td>NaN</td>\n",
       "      <td>040,1,N,0040,1</td>\n",
       "    </tr>\n",
       "    <tr>\n",
       "      <th>1</th>\n",
       "      <td>59493099999</td>\n",
       "      <td>1998-01-01T01:00:00</td>\n",
       "      <td>4</td>\n",
       "      <td>FM-15</td>\n",
       "      <td>ZGSZ</td>\n",
       "      <td>V020</td>\n",
       "      <td>NaN</td>\n",
       "      <td>NaN</td>\n",
       "      <td>NaN</td>\n",
       "      <td>0,999</td>\n",
       "      <td>...</td>\n",
       "      <td>FM-15</td>\n",
       "      <td>NaN</td>\n",
       "      <td>99999,9</td>\n",
       "      <td>4</td>\n",
       "      <td>+0220,1</td>\n",
       "      <td>NaN</td>\n",
       "      <td>NaN</td>\n",
       "      <td>003300,1,N,1</td>\n",
       "      <td>NaN</td>\n",
       "      <td>130,1,N,0020,1</td>\n",
       "    </tr>\n",
       "    <tr>\n",
       "      <th>2</th>\n",
       "      <td>59493099999</td>\n",
       "      <td>1998-01-01T02:00:00</td>\n",
       "      <td>4</td>\n",
       "      <td>FM-15</td>\n",
       "      <td>ZGSZ</td>\n",
       "      <td>V020</td>\n",
       "      <td>NaN</td>\n",
       "      <td>NaN</td>\n",
       "      <td>NaN</td>\n",
       "      <td>0,999</td>\n",
       "      <td>...</td>\n",
       "      <td>FM-15</td>\n",
       "      <td>NaN</td>\n",
       "      <td>99999,9</td>\n",
       "      <td>4</td>\n",
       "      <td>+0240,1</td>\n",
       "      <td>NaN</td>\n",
       "      <td>NaN</td>\n",
       "      <td>003500,1,N,1</td>\n",
       "      <td>NaN</td>\n",
       "      <td>110,1,N,0020,1</td>\n",
       "    </tr>\n",
       "    <tr>\n",
       "      <th>3</th>\n",
       "      <td>59493099999</td>\n",
       "      <td>1998-01-01T03:00:00</td>\n",
       "      <td>4</td>\n",
       "      <td>SY-MT</td>\n",
       "      <td>ZGSZ</td>\n",
       "      <td>V020</td>\n",
       "      <td>NaN</td>\n",
       "      <td>NaN</td>\n",
       "      <td>NaN</td>\n",
       "      <td>0,000</td>\n",
       "      <td>...</td>\n",
       "      <td>SY-MT</td>\n",
       "      <td>NaN</td>\n",
       "      <td>10185,1</td>\n",
       "      <td>4</td>\n",
       "      <td>+0221,1</td>\n",
       "      <td>NaN</td>\n",
       "      <td>NaN</td>\n",
       "      <td>011000,1,N,1</td>\n",
       "      <td>NaN</td>\n",
       "      <td>090,1,N,0020,1</td>\n",
       "    </tr>\n",
       "    <tr>\n",
       "      <th>4</th>\n",
       "      <td>59493099999</td>\n",
       "      <td>1998-01-01T04:00:00</td>\n",
       "      <td>4</td>\n",
       "      <td>FM-15</td>\n",
       "      <td>ZGSZ</td>\n",
       "      <td>V020</td>\n",
       "      <td>NaN</td>\n",
       "      <td>NaN</td>\n",
       "      <td>NaN</td>\n",
       "      <td>0,999</td>\n",
       "      <td>...</td>\n",
       "      <td>FM-15</td>\n",
       "      <td>NaN</td>\n",
       "      <td>99999,9</td>\n",
       "      <td>4</td>\n",
       "      <td>+0240,1</td>\n",
       "      <td>NaN</td>\n",
       "      <td>NaN</td>\n",
       "      <td>005000,1,N,1</td>\n",
       "      <td>NaN</td>\n",
       "      <td>270,1,N,0030,1</td>\n",
       "    </tr>\n",
       "  </tbody>\n",
       "</table>\n",
       "<p>5 rows × 54 columns</p>\n",
       "</div>"
      ],
      "text/plain": [
       "       STATION                 DATE  SOURCE REPORT_TYPE CALL_SIGN  \\\n",
       "0  59493099999  1998-01-01T00:00:00       4       SY-MT     ZGSZ    \n",
       "1  59493099999  1998-01-01T01:00:00       4       FM-15     ZGSZ    \n",
       "2  59493099999  1998-01-01T02:00:00       4       FM-15     ZGSZ    \n",
       "3  59493099999  1998-01-01T03:00:00       4       SY-MT     ZGSZ    \n",
       "4  59493099999  1998-01-01T04:00:00       4       FM-15     ZGSZ    \n",
       "\n",
       "  QUALITY_CONTROL          AA1  AA2  AA3    AG1  ... REPORT_TYPE.1  SA1  \\\n",
       "0            V020  06,0000,9,1  NaN  NaN  0,000  ...         SY-MT  NaN   \n",
       "1            V020          NaN  NaN  NaN  0,999  ...         FM-15  NaN   \n",
       "2            V020          NaN  NaN  NaN  0,999  ...         FM-15  NaN   \n",
       "3            V020          NaN  NaN  NaN  0,000  ...         SY-MT  NaN   \n",
       "4            V020          NaN  NaN  NaN  0,999  ...         FM-15  NaN   \n",
       "\n",
       "       SLP SOURCE.1      TMP  UA1  UG1           VIS WG1             WND  \n",
       "0  10184,1        4  +0186,1  NaN  NaN  008000,1,N,1 NaN  040,1,N,0040,1  \n",
       "1  99999,9        4  +0220,1  NaN  NaN  003300,1,N,1 NaN  130,1,N,0020,1  \n",
       "2  99999,9        4  +0240,1  NaN  NaN  003500,1,N,1 NaN  110,1,N,0020,1  \n",
       "3  10185,1        4  +0221,1  NaN  NaN  011000,1,N,1 NaN  090,1,N,0020,1  \n",
       "4  99999,9        4  +0240,1  NaN  NaN  005000,1,N,1 NaN  270,1,N,0030,1  \n",
       "\n",
       "[5 rows x 54 columns]"
      ]
     },
     "execution_count": 7,
     "metadata": {},
     "output_type": "execute_result"
    }
   ],
   "source": [
    "# 2 \n",
    "# read csv file\n",
    "baoan_weather=pd.read_csv('Baoan_Weather_1998_2022.csv')\n",
    "baoan_weather.head()"
   ]
  },
  {
   "cell_type": "code",
   "execution_count": 8,
   "id": "f8cf96c1",
   "metadata": {},
   "outputs": [
    {
     "name": "stderr",
     "output_type": "stream",
     "text": [
      "C:\\Users\\李彦辰\\AppData\\Local\\Temp/ipykernel_26296/4044617321.py:3: FutureWarning: Columnar iteration over characters will be deprecated in future releases.\n",
      "  T_data['DATE'],T_data['TIME'] = T_data['DATE'].str.split('T',1).str\n",
      "C:\\Users\\李彦辰\\AppData\\Local\\Temp/ipykernel_26296/4044617321.py:4: FutureWarning: Columnar iteration over characters will be deprecated in future releases.\n",
      "  T_data['TMP'],T_data['CODE'] = T_data['TMP'].str.split(',',1).str\n"
     ]
    },
    {
     "data": {
      "text/plain": [
       "<AxesSubplot:xlabel='DATE,DATE'>"
      ]
     },
     "execution_count": 8,
     "metadata": {},
     "output_type": "execute_result"
    },
    {
     "data": {
      "image/png": "[encoded data removed]",
      "text/plain": [
       "<Figure size 432x288 with 1 Axes>"
      ]
     },
     "metadata": {
      "needs_background": "light"
     },
     "output_type": "display_data"
    }
   ],
   "source": [
    "# 2\n",
    "T_data = baoan_weather.loc[:,('DATE','TMP')]\n",
    "T_data['DATE'],T_data['TIME'] = T_data['DATE'].str.split('T',1).str\n",
    "T_data['TMP'],T_data['CODE'] = T_data['TMP'].str.split(',',1).str\n",
    "T_data['TMP'] = T_data['TMP'].astype(float)/10\n",
    "T_data['DATE'] = pd.to_datetime(T_data['DATE'])\n",
    "T_data2 = T_data.loc[T_data['CODE'] == '1'][['DATE','TMP','TIME']]\n",
    "T_data2\n",
    "T_data2.groupby([T_data2['DATE'].dt.year,T_data2['DATE'].dt.month])['TMP'].mean().plot()\n"
   ]
  },
  {
   "cell_type": "code",
   "execution_count": 9,
   "id": "2001340c",
   "metadata": {
    "scrolled": true
   },
   "outputs": [
    {
     "name": "stderr",
     "output_type": "stream",
     "text": [
      "D:\\LI_YANCHEN\\APP_INSTALL\\Anaconda3\\lib\\site-packages\\IPython\\core\\interactiveshell.py:3444: DtypeWarning: Columns (5) have mixed types.Specify dtype option on import or set low_memory=False.\n",
      "  exec(code_obj, self.user_global_ns, self.user_ns)\n"
     ]
    },
    {
     "data": {
      "text/html": [
       "<div>\n",
       "<style scoped>\n",
       "    .dataframe tbody tr th:only-of-type {\n",
       "        vertical-align: middle;\n",
       "    }\n",
       "\n",
       "    .dataframe tbody tr th {\n",
       "        vertical-align: top;\n",
       "    }\n",
       "\n",
       "    .dataframe thead th {\n",
       "        text-align: right;\n",
       "    }\n",
       "</style>\n",
       "<table border=\"1\" class=\"dataframe\">\n",
       "  <thead>\n",
       "    <tr style=\"text-align: right;\">\n",
       "      <th></th>\n",
       "      <th>SID</th>\n",
       "      <th>SEASON</th>\n",
       "      <th>NUMBER</th>\n",
       "      <th>BASIN</th>\n",
       "      <th>SUBBASIN</th>\n",
       "      <th>NAME</th>\n",
       "      <th>ISO_TIME</th>\n",
       "      <th>NATURE</th>\n",
       "      <th>LAT</th>\n",
       "      <th>LON</th>\n",
       "      <th>WMO_WIND</th>\n",
       "      <th>WMO_PRES</th>\n",
       "      <th>WMO_AGENCY</th>\n",
       "      <th>TRACK_TYPE</th>\n",
       "      <th>DIST2LAND</th>\n",
       "      <th>LANDFALL</th>\n",
       "      <th>IFLAG</th>\n",
       "    </tr>\n",
       "  </thead>\n",
       "  <tbody>\n",
       "    <tr>\n",
       "      <th>0</th>\n",
       "      <td>1842298N11080</td>\n",
       "      <td>1842</td>\n",
       "      <td>1</td>\n",
       "      <td>NI</td>\n",
       "      <td>BB</td>\n",
       "      <td>NaN</td>\n",
       "      <td>1842-10-25 06:00:00</td>\n",
       "      <td>NR</td>\n",
       "      <td>10.8709</td>\n",
       "      <td>79.8265</td>\n",
       "      <td></td>\n",
       "      <td></td>\n",
       "      <td></td>\n",
       "      <td>main</td>\n",
       "      <td>0</td>\n",
       "      <td>0</td>\n",
       "      <td>__________P___</td>\n",
       "    </tr>\n",
       "    <tr>\n",
       "      <th>1</th>\n",
       "      <td>1842298N11080</td>\n",
       "      <td>1842</td>\n",
       "      <td>1</td>\n",
       "      <td>NI</td>\n",
       "      <td>BB</td>\n",
       "      <td>NaN</td>\n",
       "      <td>1842-10-25 09:00:00</td>\n",
       "      <td>NR</td>\n",
       "      <td>10.8431</td>\n",
       "      <td>79.3524</td>\n",
       "      <td></td>\n",
       "      <td></td>\n",
       "      <td></td>\n",
       "      <td>main</td>\n",
       "      <td>0</td>\n",
       "      <td>0</td>\n",
       "      <td>__________P___</td>\n",
       "    </tr>\n",
       "    <tr>\n",
       "      <th>2</th>\n",
       "      <td>1842298N11080</td>\n",
       "      <td>1842</td>\n",
       "      <td>1</td>\n",
       "      <td>NI</td>\n",
       "      <td>BB</td>\n",
       "      <td>NaN</td>\n",
       "      <td>1842-10-25 12:00:00</td>\n",
       "      <td>NR</td>\n",
       "      <td>10.8188</td>\n",
       "      <td>78.8772</td>\n",
       "      <td></td>\n",
       "      <td></td>\n",
       "      <td></td>\n",
       "      <td>main</td>\n",
       "      <td>0</td>\n",
       "      <td>0</td>\n",
       "      <td>__________P___</td>\n",
       "    </tr>\n",
       "    <tr>\n",
       "      <th>3</th>\n",
       "      <td>1842298N11080</td>\n",
       "      <td>1842</td>\n",
       "      <td>1</td>\n",
       "      <td>NI</td>\n",
       "      <td>BB</td>\n",
       "      <td>NaN</td>\n",
       "      <td>1842-10-25 15:00:00</td>\n",
       "      <td>NR</td>\n",
       "      <td>10.8000</td>\n",
       "      <td>78.4000</td>\n",
       "      <td></td>\n",
       "      <td></td>\n",
       "      <td></td>\n",
       "      <td>main</td>\n",
       "      <td>0</td>\n",
       "      <td>0</td>\n",
       "      <td>__________O___</td>\n",
       "    </tr>\n",
       "    <tr>\n",
       "      <th>4</th>\n",
       "      <td>1842298N11080</td>\n",
       "      <td>1842</td>\n",
       "      <td>1</td>\n",
       "      <td>NI</td>\n",
       "      <td>AS</td>\n",
       "      <td>NaN</td>\n",
       "      <td>1842-10-25 18:00:00</td>\n",
       "      <td>NR</td>\n",
       "      <td>10.7884</td>\n",
       "      <td>77.9194</td>\n",
       "      <td></td>\n",
       "      <td></td>\n",
       "      <td></td>\n",
       "      <td>main</td>\n",
       "      <td>0</td>\n",
       "      <td>0</td>\n",
       "      <td>__________P___</td>\n",
       "    </tr>\n",
       "  </tbody>\n",
       "</table>\n",
       "</div>"
      ],
      "text/plain": [
       "             SID  SEASON  NUMBER BASIN SUBBASIN NAME            ISO_TIME  \\\n",
       "0  1842298N11080    1842       1    NI       BB  NaN 1842-10-25 06:00:00   \n",
       "1  1842298N11080    1842       1    NI       BB  NaN 1842-10-25 09:00:00   \n",
       "2  1842298N11080    1842       1    NI       BB  NaN 1842-10-25 12:00:00   \n",
       "3  1842298N11080    1842       1    NI       BB  NaN 1842-10-25 15:00:00   \n",
       "4  1842298N11080    1842       1    NI       AS  NaN 1842-10-25 18:00:00   \n",
       "\n",
       "  NATURE      LAT      LON WMO_WIND WMO_PRES WMO_AGENCY TRACK_TYPE  DIST2LAND  \\\n",
       "0     NR  10.8709  79.8265                                    main          0   \n",
       "1     NR  10.8431  79.3524                                    main          0   \n",
       "2     NR  10.8188  78.8772                                    main          0   \n",
       "3     NR  10.8000  78.4000                                    main          0   \n",
       "4     NR  10.7884  77.9194                                    main          0   \n",
       "\n",
       "  LANDFALL           IFLAG  \n",
       "0        0  __________P___  \n",
       "1        0  __________P___  \n",
       "2        0  __________P___  \n",
       "3        0  __________O___  \n",
       "4        0  __________P___  "
      ]
     },
     "execution_count": 9,
     "metadata": {},
     "output_type": "execute_result"
    }
   ],
   "source": [
    "#3\n",
    "df = pd.read_csv('ibtracs.ALL.list.v04r00.csv',\n",
    "                 usecols=range(17),\n",
    "                 skiprows=[1, 2], \n",
    "                 parse_dates=['ISO_TIME'],\n",
    "                 na_values=['NOT_NAMED', 'NAME'])\n",
    "df.head()"
   ]
  },
  {
   "cell_type": "code",
   "execution_count": 10,
   "id": "bb7db710",
   "metadata": {},
   "outputs": [
    {
     "name": "stderr",
     "output_type": "stream",
     "text": [
      "C:\\Users\\李彦辰\\AppData\\Local\\Temp/ipykernel_26296/2409264014.py:2: FutureWarning: Dropping invalid columns in DataFrameGroupBy.max is deprecated. In a future version, a TypeError will be raised. Before calling .max, select only columns which should be valid for the function.\n",
      "  df.groupby(['SID']).max().sort_values('WMO_WIND', ascending=False)[0:10]['NAME']\n"
     ]
    },
    {
     "data": {
      "text/plain": [
       "SID\n",
       "1997125S08079            RHONDA\n",
       "2005237N14148             TALIM\n",
       "2005054S09173             PERCY\n",
       "2005063S12141            INGRID\n",
       "2005092S11102    ADELINE:JULIET\n",
       "2005148N06156             NESAT\n",
       "2005192N11318             EMILY\n",
       "2005192N22155           HAITANG\n",
       "2005230N20144             MAWAR\n",
       "2005236N23285           KATRINA\n",
       "Name: NAME, dtype: object"
      ]
     },
     "execution_count": 10,
     "metadata": {},
     "output_type": "execute_result"
    }
   ],
   "source": [
    "# 3.1\n",
    "df.groupby(['SID']).max().sort_values('WMO_WIND', ascending=False)[0:10]['NAME']"
   ]
  },
  {
   "cell_type": "code",
   "execution_count": 17,
   "id": "54fea817",
   "metadata": {},
   "outputs": [
    {
     "data": {
      "text/html": [
       "<div>\n",
       "<style scoped>\n",
       "    .dataframe tbody tr th:only-of-type {\n",
       "        vertical-align: middle;\n",
       "    }\n",
       "\n",
       "    .dataframe tbody tr th {\n",
       "        vertical-align: top;\n",
       "    }\n",
       "\n",
       "    .dataframe thead th {\n",
       "        text-align: right;\n",
       "    }\n",
       "</style>\n",
       "<table border=\"1\" class=\"dataframe\">\n",
       "  <thead>\n",
       "    <tr style=\"text-align: right;\">\n",
       "      <th></th>\n",
       "      <th>WMO_WIND</th>\n",
       "    </tr>\n",
       "    <tr>\n",
       "      <th>SID</th>\n",
       "      <th></th>\n",
       "    </tr>\n",
       "  </thead>\n",
       "  <tbody>\n",
       "    <tr>\n",
       "      <th>1997125S08079</th>\n",
       "      <td>95</td>\n",
       "    </tr>\n",
       "    <tr>\n",
       "      <th>2005237N14148</th>\n",
       "      <td>95</td>\n",
       "    </tr>\n",
       "    <tr>\n",
       "      <th>2005054S09173</th>\n",
       "      <td>95</td>\n",
       "    </tr>\n",
       "    <tr>\n",
       "      <th>2005063S12141</th>\n",
       "      <td>95</td>\n",
       "    </tr>\n",
       "    <tr>\n",
       "      <th>2005092S11102</th>\n",
       "      <td>95</td>\n",
       "    </tr>\n",
       "    <tr>\n",
       "      <th>2005148N06156</th>\n",
       "      <td>95</td>\n",
       "    </tr>\n",
       "    <tr>\n",
       "      <th>2005192N11318</th>\n",
       "      <td>95</td>\n",
       "    </tr>\n",
       "    <tr>\n",
       "      <th>2005192N22155</th>\n",
       "      <td>95</td>\n",
       "    </tr>\n",
       "    <tr>\n",
       "      <th>2005230N20144</th>\n",
       "      <td>95</td>\n",
       "    </tr>\n",
       "    <tr>\n",
       "      <th>2005236N23285</th>\n",
       "      <td>95</td>\n",
       "    </tr>\n",
       "    <tr>\n",
       "      <th>1906281N11284</th>\n",
       "      <td>95</td>\n",
       "    </tr>\n",
       "    <tr>\n",
       "      <th>2005241N15155</th>\n",
       "      <td>95</td>\n",
       "    </tr>\n",
       "    <tr>\n",
       "      <th>2006074S13158</th>\n",
       "      <td>95</td>\n",
       "    </tr>\n",
       "    <tr>\n",
       "      <th>1906263N12283</th>\n",
       "      <td>95</td>\n",
       "    </tr>\n",
       "    <tr>\n",
       "      <th>2005255N15246</th>\n",
       "      <td>95</td>\n",
       "    </tr>\n",
       "    <tr>\n",
       "      <th>1906238N14339</th>\n",
       "      <td>95</td>\n",
       "    </tr>\n",
       "    <tr>\n",
       "      <th>2005261N21290</th>\n",
       "      <td>95</td>\n",
       "    </tr>\n",
       "    <tr>\n",
       "      <th>2005268N19146</th>\n",
       "      <td>95</td>\n",
       "    </tr>\n",
       "    <tr>\n",
       "      <th>2005282N22138</th>\n",
       "      <td>95</td>\n",
       "    </tr>\n",
       "    <tr>\n",
       "      <th>2005289N18282</th>\n",
       "      <td>95</td>\n",
       "    </tr>\n",
       "  </tbody>\n",
       "</table>\n",
       "</div>"
      ],
      "text/plain": [
       "              WMO_WIND\n",
       "SID                   \n",
       "1997125S08079       95\n",
       "2005237N14148       95\n",
       "2005054S09173       95\n",
       "2005063S12141       95\n",
       "2005092S11102       95\n",
       "2005148N06156       95\n",
       "2005192N11318       95\n",
       "2005192N22155       95\n",
       "2005230N20144       95\n",
       "2005236N23285       95\n",
       "1906281N11284       95\n",
       "2005241N15155       95\n",
       "2006074S13158       95\n",
       "1906263N12283       95\n",
       "2005255N15246       95\n",
       "1906238N14339       95\n",
       "2005261N21290       95\n",
       "2005268N19146       95\n",
       "2005282N22138       95\n",
       "2005289N18282       95"
      ]
     },
     "execution_count": 17,
     "metadata": {},
     "output_type": "execute_result"
    }
   ],
   "source": [
    "# 3.2 ???\n",
    "plot_df = df.groupby('SID').agg({'WMO_WIND':'max'}).sort_values(by='WMO_WIND',ascending=False)[0:20]\n",
    "plot_df\n",
    "#plot_df.plot(kind='bar')"
   ]
  },
  {
   "cell_type": "code",
   "execution_count": 18,
   "id": "9098b026",
   "metadata": {},
   "outputs": [
    {
     "data": {
      "text/plain": [
       "<AxesSubplot:xlabel='BASIN'>"
      ]
     },
     "execution_count": 18,
     "metadata": {},
     "output_type": "execute_result"
    },
    {
     "data": {
      "image/png": "[encoded data removed]",
      "text/plain": [
       "<Figure size 432x288 with 1 Axes>"
      ]
     },
     "metadata": {
      "needs_background": "light"
     },
     "output_type": "display_data"
    }
   ],
   "source": [
    "# 3.3\n",
    "df.groupby('BASIN')['NUMBER'].count().plot(kind='bar')"
   ]
  },
  {
   "cell_type": "code",
   "execution_count": 19,
   "id": "2eb14bce",
   "metadata": {},
   "outputs": [
    {
     "data": {
      "text/plain": [
       "<AxesSubplot:xlabel='LAT', ylabel='LON'>"
      ]
     },
     "execution_count": 19,
     "metadata": {},
     "output_type": "execute_result"
    },
    {
     "data": {
      "image/png": "[encoded data removed]",
      "text/plain": [
       "<Figure size 432x288 with 2 Axes>"
      ]
     },
     "metadata": {
      "needs_background": "light"
     },
     "output_type": "display_data"
    }
   ],
   "source": [
    "# 3.4\n",
    "df.plot.hexbin(x='LAT', y='LON', gridsize=50,cmap='Greens')"
   ]
  },
  {
   "cell_type": "code",
   "execution_count": 20,
   "id": "243f8861",
   "metadata": {},
   "outputs": [
    {
     "data": {
      "text/plain": [
       "<AxesSubplot:xlabel='LAT', ylabel='LON'>"
      ]
     },
     "execution_count": 20,
     "metadata": {},
     "output_type": "execute_result"
    },
    {
     "data": {
      "image/png": "[encoded data removed]",
      "text/plain": [
       "<Figure size 432x288 with 1 Axes>"
      ]
     },
     "metadata": {
      "needs_background": "light"
     },
     "output_type": "display_data"
    }
   ],
   "source": [
    "# 3.5\n",
    "df[(df['SEASON'] == 2018) & (df['NAME'] == 'MANGKHUT')].plot.scatter(x='LAT',y='LON',c='Blue')"
   ]
  },
  {
   "cell_type": "code",
   "execution_count": 21,
   "id": "df5804a6",
   "metadata": {},
   "outputs": [
    {
     "data": {
      "text/html": [
       "<div>\n",
       "<style scoped>\n",
       "    .dataframe tbody tr th:only-of-type {\n",
       "        vertical-align: middle;\n",
       "    }\n",
       "\n",
       "    .dataframe tbody tr th {\n",
       "        vertical-align: top;\n",
       "    }\n",
       "\n",
       "    .dataframe thead th {\n",
       "        text-align: right;\n",
       "    }\n",
       "</style>\n",
       "<table border=\"1\" class=\"dataframe\">\n",
       "  <thead>\n",
       "    <tr style=\"text-align: right;\">\n",
       "      <th></th>\n",
       "      <th>SID</th>\n",
       "      <th>SEASON</th>\n",
       "      <th>NUMBER</th>\n",
       "      <th>BASIN</th>\n",
       "      <th>SUBBASIN</th>\n",
       "      <th>NAME</th>\n",
       "      <th>ISO_TIME</th>\n",
       "      <th>NATURE</th>\n",
       "      <th>LAT</th>\n",
       "      <th>LON</th>\n",
       "      <th>WMO_WIND</th>\n",
       "      <th>WMO_PRES</th>\n",
       "      <th>WMO_AGENCY</th>\n",
       "      <th>TRACK_TYPE</th>\n",
       "      <th>DIST2LAND</th>\n",
       "      <th>LANDFALL</th>\n",
       "      <th>IFLAG</th>\n",
       "    </tr>\n",
       "  </thead>\n",
       "  <tbody>\n",
       "    <tr>\n",
       "      <th>350393</th>\n",
       "      <td>1970050N07151</td>\n",
       "      <td>1970</td>\n",
       "      <td>22</td>\n",
       "      <td>WP</td>\n",
       "      <td>MM</td>\n",
       "      <td>NANCY</td>\n",
       "      <td>1970-02-19 00:00:00</td>\n",
       "      <td>TS</td>\n",
       "      <td>7.00000</td>\n",
       "      <td>151.400</td>\n",
       "      <td></td>\n",
       "      <td>1006</td>\n",
       "      <td>tokyo</td>\n",
       "      <td>main</td>\n",
       "      <td>1088</td>\n",
       "      <td>1088</td>\n",
       "      <td>_OO___________</td>\n",
       "    </tr>\n",
       "    <tr>\n",
       "      <th>350394</th>\n",
       "      <td>1970050N07151</td>\n",
       "      <td>1970</td>\n",
       "      <td>22</td>\n",
       "      <td>WP</td>\n",
       "      <td>MM</td>\n",
       "      <td>NANCY</td>\n",
       "      <td>1970-02-19 03:00:00</td>\n",
       "      <td>TS</td>\n",
       "      <td>7.24752</td>\n",
       "      <td>151.205</td>\n",
       "      <td></td>\n",
       "      <td></td>\n",
       "      <td></td>\n",
       "      <td>main</td>\n",
       "      <td>1109</td>\n",
       "      <td>1109</td>\n",
       "      <td>_PP___________</td>\n",
       "    </tr>\n",
       "    <tr>\n",
       "      <th>350395</th>\n",
       "      <td>1970050N07151</td>\n",
       "      <td>1970</td>\n",
       "      <td>22</td>\n",
       "      <td>WP</td>\n",
       "      <td>MM</td>\n",
       "      <td>NANCY</td>\n",
       "      <td>1970-02-19 06:00:00</td>\n",
       "      <td>TS</td>\n",
       "      <td>7.50000</td>\n",
       "      <td>151.000</td>\n",
       "      <td></td>\n",
       "      <td>1002</td>\n",
       "      <td>tokyo</td>\n",
       "      <td>main</td>\n",
       "      <td>1143</td>\n",
       "      <td>1143</td>\n",
       "      <td>_OO___________</td>\n",
       "    </tr>\n",
       "    <tr>\n",
       "      <th>350396</th>\n",
       "      <td>1970050N07151</td>\n",
       "      <td>1970</td>\n",
       "      <td>22</td>\n",
       "      <td>WP</td>\n",
       "      <td>MM</td>\n",
       "      <td>NANCY</td>\n",
       "      <td>1970-02-19 09:00:00</td>\n",
       "      <td>TS</td>\n",
       "      <td>7.75747</td>\n",
       "      <td>150.772</td>\n",
       "      <td></td>\n",
       "      <td></td>\n",
       "      <td></td>\n",
       "      <td>main</td>\n",
       "      <td>1171</td>\n",
       "      <td>1168</td>\n",
       "      <td>_PP___________</td>\n",
       "    </tr>\n",
       "    <tr>\n",
       "      <th>350397</th>\n",
       "      <td>1970050N07151</td>\n",
       "      <td>1970</td>\n",
       "      <td>22</td>\n",
       "      <td>WP</td>\n",
       "      <td>MM</td>\n",
       "      <td>NANCY</td>\n",
       "      <td>1970-02-19 12:00:00</td>\n",
       "      <td>TS</td>\n",
       "      <td>8.00000</td>\n",
       "      <td>150.500</td>\n",
       "      <td></td>\n",
       "      <td>998</td>\n",
       "      <td>tokyo</td>\n",
       "      <td>main</td>\n",
       "      <td>1182</td>\n",
       "      <td>1179</td>\n",
       "      <td>_OO___________</td>\n",
       "    </tr>\n",
       "  </tbody>\n",
       "</table>\n",
       "</div>"
      ],
      "text/plain": [
       "                  SID  SEASON  NUMBER BASIN SUBBASIN   NAME  \\\n",
       "350393  1970050N07151    1970      22    WP       MM  NANCY   \n",
       "350394  1970050N07151    1970      22    WP       MM  NANCY   \n",
       "350395  1970050N07151    1970      22    WP       MM  NANCY   \n",
       "350396  1970050N07151    1970      22    WP       MM  NANCY   \n",
       "350397  1970050N07151    1970      22    WP       MM  NANCY   \n",
       "\n",
       "                  ISO_TIME NATURE      LAT      LON WMO_WIND WMO_PRES  \\\n",
       "350393 1970-02-19 00:00:00     TS  7.00000  151.400              1006   \n",
       "350394 1970-02-19 03:00:00     TS  7.24752  151.205                     \n",
       "350395 1970-02-19 06:00:00     TS  7.50000  151.000              1002   \n",
       "350396 1970-02-19 09:00:00     TS  7.75747  150.772                     \n",
       "350397 1970-02-19 12:00:00     TS  8.00000  150.500               998   \n",
       "\n",
       "       WMO_AGENCY TRACK_TYPE  DIST2LAND LANDFALL           IFLAG  \n",
       "350393      tokyo       main       1088     1088  _OO___________  \n",
       "350394                  main       1109     1109  _PP___________  \n",
       "350395      tokyo       main       1143     1143  _OO___________  \n",
       "350396                  main       1171     1168  _PP___________  \n",
       "350397      tokyo       main       1182     1179  _OO___________  "
      ]
     },
     "execution_count": 21,
     "metadata": {},
     "output_type": "execute_result"
    }
   ],
   "source": [
    "# 3.6\n",
    "df2 = df.loc[(df['SEASON'] >= 1970) & (df['BASIN'].isin(['WP','EP']))]\n",
    "df2.head()"
   ]
  },
  {
   "cell_type": "code",
   "execution_count": 22,
   "id": "681726b3",
   "metadata": {},
   "outputs": [
    {
     "data": {
      "text/plain": [
       "<AxesSubplot:xlabel='ISO_TIME'>"
      ]
     },
     "execution_count": 22,
     "metadata": {},
     "output_type": "execute_result"
    },
    {
     "data": {
      "image/png": "[encoded data removed]",
      "text/plain": [
       "<Figure size 432x288 with 1 Axes>"
      ]
     },
     "metadata": {
      "needs_background": "light"
     },
     "output_type": "display_data"
    }
   ],
   "source": [
    "# 3.7\n",
    "df2.groupby([df2['ISO_TIME'].dt.date]).count()['NUMBER'].plot()"
   ]
  },
  {
   "cell_type": "code",
   "execution_count": 37,
   "id": "e0265293",
   "metadata": {},
   "outputs": [
    {
     "name": "stderr",
     "output_type": "stream",
     "text": [
      "C:\\Users\\李彦辰\\AppData\\Local\\Temp/ipykernel_26296/2335276101.py:2: SettingWithCopyWarning: \n",
      "A value is trying to be set on a copy of a slice from a DataFrame.\n",
      "Try using .loc[row_indexer,col_indexer] = value instead\n",
      "\n",
      "See the caveats in the documentation: https://pandas.pydata.org/pandas-docs/stable/user_guide/indexing.html#returning-a-view-versus-a-copy\n",
      "  df2['DAY_OF_YEAR'] = df2['ISO_TIME'].dt.day_of_year\n"
     ]
    },
    {
     "data": {
      "text/plain": [
       "<AxesSubplot:xlabel='DAY_OF_YEAR'>"
      ]
     },
     "execution_count": 37,
     "metadata": {},
     "output_type": "execute_result"
    },
    {
     "data": {
      "image/png": "[encoded data removed]",
      "text/plain": [
       "<Figure size 432x288 with 1 Axes>"
      ]
     },
     "metadata": {
      "needs_background": "light"
     },
     "output_type": "display_data"
    }
   ],
   "source": [
    "# 3.8\n",
    "df2['DAY_OF_YEAR'] = df2['ISO_TIME'].dt.day_of_year\n",
    "df2.groupby(['DAY_OF_YEAR']).size().plot()\n"
   ]
  },
  {
   "cell_type": "code",
   "execution_count": 28,
   "id": "6ecfadf4",
   "metadata": {},
   "outputs": [
    {
     "name": "stderr",
     "output_type": "stream",
     "text": [
      "C:\\Users\\李彦辰\\AppData\\Local\\Temp/ipykernel_26296/3322063674.py:2: SettingWithCopyWarning: \n",
      "A value is trying to be set on a copy of a slice from a DataFrame.\n",
      "Try using .loc[row_indexer,col_indexer] = value instead\n",
      "\n",
      "See the caveats in the documentation: https://pandas.pydata.org/pandas-docs/stable/user_guide/indexing.html#returning-a-view-versus-a-copy\n",
      "  df2['DATE'] = df2['ISO_TIME'].dt.date\n"
     ]
    },
    {
     "data": {
      "text/plain": [
       "<AxesSubplot:xlabel='DATE'>"
      ]
     },
     "execution_count": 28,
     "metadata": {},
     "output_type": "execute_result"
    },
    {
     "data": {
      "image/png": "[encoded data removed]",
      "text/plain": [
       "<Figure size 432x288 with 1 Axes>"
      ]
     },
     "metadata": {
      "needs_background": "light"
     },
     "output_type": "display_data"
    }
   ],
   "source": [
    "# 3.9\n",
    "df2['DATE'] = df2['ISO_TIME'].dt.date\n",
    "df2.groupby(['DATE']).size().plot()\n"
   ]
  },
  {
   "cell_type": "code",
   "execution_count": 40,
   "id": "404379a5",
   "metadata": {
    "scrolled": true
   },
   "outputs": [
    {
     "data": {
      "text/plain": [
       "<AxesSubplot:xlabel='ISO_TIME'>"
      ]
     },
     "execution_count": 40,
     "metadata": {},
     "output_type": "execute_result"
    },
    {
     "data": {
      "image/png": "[encoded data removed]",
      "text/plain": [
       "<Figure size 432x288 with 1 Axes>"
      ]
     },
     "metadata": {
      "needs_background": "light"
     },
     "output_type": "display_data"
    }
   ],
   "source": [
    "# 3.10\n",
    "daily_counts = df2.groupby([\"ISO_TIME\"]).size()\n",
    "daily_counts.resample('Y').size().plot()"
   ]
  },
  {
   "cell_type": "code",
   "execution_count": 42,
   "id": "7a34def7",
   "metadata": {},
   "outputs": [
    {
     "data": {
      "text/html": [
       "<div>\n",
       "<style scoped>\n",
       "    .dataframe tbody tr th:only-of-type {\n",
       "        vertical-align: middle;\n",
       "    }\n",
       "\n",
       "    .dataframe tbody tr th {\n",
       "        vertical-align: top;\n",
       "    }\n",
       "\n",
       "    .dataframe thead th {\n",
       "        text-align: right;\n",
       "    }\n",
       "</style>\n",
       "<table border=\"1\" class=\"dataframe\">\n",
       "  <thead>\n",
       "    <tr style=\"text-align: right;\">\n",
       "      <th></th>\n",
       "      <th>STATION</th>\n",
       "      <th>DATE</th>\n",
       "      <th>AWND</th>\n",
       "      <th>AWND_ATTRIBUTES</th>\n",
       "      <th>CDSD</th>\n",
       "      <th>CDSD_ATTRIBUTES</th>\n",
       "      <th>CLDD</th>\n",
       "      <th>CLDD_ATTRIBUTES</th>\n",
       "      <th>DP01</th>\n",
       "      <th>DP01_ATTRIBUTES</th>\n",
       "      <th>...</th>\n",
       "      <th>TSUN</th>\n",
       "      <th>TSUN_ATTRIBUTES</th>\n",
       "      <th>WDF2</th>\n",
       "      <th>WDF2_ATTRIBUTES</th>\n",
       "      <th>WDF5</th>\n",
       "      <th>WDF5_ATTRIBUTES</th>\n",
       "      <th>WSF2</th>\n",
       "      <th>WSF2_ATTRIBUTES</th>\n",
       "      <th>WSF5</th>\n",
       "      <th>WSF5_ATTRIBUTES</th>\n",
       "    </tr>\n",
       "  </thead>\n",
       "  <tbody>\n",
       "    <tr>\n",
       "      <th>0</th>\n",
       "      <td>USW00094724</td>\n",
       "      <td>1998-01</td>\n",
       "      <td>NaN</td>\n",
       "      <td>NaN</td>\n",
       "      <td>0.0</td>\n",
       "      <td>W</td>\n",
       "      <td>0.0</td>\n",
       "      <td>3,M</td>\n",
       "      <td>NaN</td>\n",
       "      <td>NaN</td>\n",
       "      <td>...</td>\n",
       "      <td>NaN</td>\n",
       "      <td>NaN</td>\n",
       "      <td>NaN</td>\n",
       "      <td>NaN</td>\n",
       "      <td>NaN</td>\n",
       "      <td>NaN</td>\n",
       "      <td>NaN</td>\n",
       "      <td>NaN</td>\n",
       "      <td>NaN</td>\n",
       "      <td>NaN</td>\n",
       "    </tr>\n",
       "    <tr>\n",
       "      <th>1</th>\n",
       "      <td>USW00094724</td>\n",
       "      <td>1998-02</td>\n",
       "      <td>NaN</td>\n",
       "      <td>NaN</td>\n",
       "      <td>0.0</td>\n",
       "      <td>W</td>\n",
       "      <td>0.0</td>\n",
       "      <td>1,M</td>\n",
       "      <td>NaN</td>\n",
       "      <td>NaN</td>\n",
       "      <td>...</td>\n",
       "      <td>NaN</td>\n",
       "      <td>NaN</td>\n",
       "      <td>NaN</td>\n",
       "      <td>NaN</td>\n",
       "      <td>NaN</td>\n",
       "      <td>NaN</td>\n",
       "      <td>NaN</td>\n",
       "      <td>NaN</td>\n",
       "      <td>NaN</td>\n",
       "      <td>NaN</td>\n",
       "    </tr>\n",
       "    <tr>\n",
       "      <th>2</th>\n",
       "      <td>USW00094724</td>\n",
       "      <td>1998-03</td>\n",
       "      <td>NaN</td>\n",
       "      <td>NaN</td>\n",
       "      <td>0.0</td>\n",
       "      <td>W</td>\n",
       "      <td>0.0</td>\n",
       "      <td>,M</td>\n",
       "      <td>NaN</td>\n",
       "      <td>NaN</td>\n",
       "      <td>...</td>\n",
       "      <td>NaN</td>\n",
       "      <td>NaN</td>\n",
       "      <td>NaN</td>\n",
       "      <td>NaN</td>\n",
       "      <td>NaN</td>\n",
       "      <td>NaN</td>\n",
       "      <td>NaN</td>\n",
       "      <td>NaN</td>\n",
       "      <td>NaN</td>\n",
       "      <td>NaN</td>\n",
       "    </tr>\n",
       "    <tr>\n",
       "      <th>3</th>\n",
       "      <td>USW00094724</td>\n",
       "      <td>1998-04</td>\n",
       "      <td>4.6</td>\n",
       "      <td>,W</td>\n",
       "      <td>0.0</td>\n",
       "      <td>W</td>\n",
       "      <td>0.0</td>\n",
       "      <td>,W</td>\n",
       "      <td>13.0</td>\n",
       "      <td>,W</td>\n",
       "      <td>...</td>\n",
       "      <td>NaN</td>\n",
       "      <td>NaN</td>\n",
       "      <td>30.0</td>\n",
       "      <td>,W</td>\n",
       "      <td>30.0</td>\n",
       "      <td>,W</td>\n",
       "      <td>17.9</td>\n",
       "      <td>,W</td>\n",
       "      <td>23.7</td>\n",
       "      <td>,W</td>\n",
       "    </tr>\n",
       "    <tr>\n",
       "      <th>4</th>\n",
       "      <td>USW00094724</td>\n",
       "      <td>1998-05</td>\n",
       "      <td>5.0</td>\n",
       "      <td>,W</td>\n",
       "      <td>0.0</td>\n",
       "      <td>W</td>\n",
       "      <td>0.0</td>\n",
       "      <td>1,W</td>\n",
       "      <td>12.0</td>\n",
       "      <td>,W</td>\n",
       "      <td>...</td>\n",
       "      <td>NaN</td>\n",
       "      <td>NaN</td>\n",
       "      <td>50.0</td>\n",
       "      <td>,W</td>\n",
       "      <td>50.0</td>\n",
       "      <td>,W</td>\n",
       "      <td>16.5</td>\n",
       "      <td>,W</td>\n",
       "      <td>20.6</td>\n",
       "      <td>,W</td>\n",
       "    </tr>\n",
       "  </tbody>\n",
       "</table>\n",
       "<p>5 rows × 64 columns</p>\n",
       "</div>"
      ],
      "text/plain": [
       "       STATION     DATE  AWND AWND_ATTRIBUTES  CDSD CDSD_ATTRIBUTES  CLDD  \\\n",
       "0  USW00094724  1998-01   NaN             NaN   0.0               W   0.0   \n",
       "1  USW00094724  1998-02   NaN             NaN   0.0               W   0.0   \n",
       "2  USW00094724  1998-03   NaN             NaN   0.0               W   0.0   \n",
       "3  USW00094724  1998-04   4.6              ,W   0.0               W   0.0   \n",
       "4  USW00094724  1998-05   5.0              ,W   0.0               W   0.0   \n",
       "\n",
       "  CLDD_ATTRIBUTES  DP01 DP01_ATTRIBUTES  ...  TSUN TSUN_ATTRIBUTES  WDF2  \\\n",
       "0             3,M   NaN             NaN  ...   NaN             NaN   NaN   \n",
       "1             1,M   NaN             NaN  ...   NaN             NaN   NaN   \n",
       "2              ,M   NaN             NaN  ...   NaN             NaN   NaN   \n",
       "3              ,W  13.0              ,W  ...   NaN             NaN  30.0   \n",
       "4             1,W  12.0              ,W  ...   NaN             NaN  50.0   \n",
       "\n",
       "  WDF2_ATTRIBUTES  WDF5 WDF5_ATTRIBUTES  WSF2 WSF2_ATTRIBUTES  WSF5  \\\n",
       "0             NaN   NaN             NaN   NaN             NaN   NaN   \n",
       "1             NaN   NaN             NaN   NaN             NaN   NaN   \n",
       "2             NaN   NaN             NaN   NaN             NaN   NaN   \n",
       "3              ,W  30.0              ,W  17.9              ,W  23.7   \n",
       "4              ,W  50.0              ,W  16.5              ,W  20.6   \n",
       "\n",
       "  WSF5_ATTRIBUTES  \n",
       "0             NaN  \n",
       "1             NaN  \n",
       "2             NaN  \n",
       "3              ,W  \n",
       "4              ,W  \n",
       "\n",
       "[5 rows x 64 columns]"
      ]
     },
     "execution_count": 42,
     "metadata": {},
     "output_type": "execute_result"
    }
   ],
   "source": [
    "# 4\n",
    "df = pd.read_csv('USW00094724.csv')\n",
    "df.head()"
   ]
  },
  {
   "cell_type": "code",
   "execution_count": 43,
   "id": "d3a838f3",
   "metadata": {},
   "outputs": [
    {
     "name": "stderr",
     "output_type": "stream",
     "text": [
      "C:\\Users\\李彦辰\\AppData\\Local\\Temp/ipykernel_26296/2157497495.py:3: FutureWarning: Columnar iteration over characters will be deprecated in future releases.\n",
      "  AWND_df['YEAR'],AWND_df['MONTH'] = AWND_df['DATE'].str.split('-',1).str\n",
      "C:\\Users\\李彦辰\\AppData\\Local\\Temp/ipykernel_26296/2157497495.py:3: SettingWithCopyWarning: \n",
      "A value is trying to be set on a copy of a slice from a DataFrame.\n",
      "Try using .loc[row_indexer,col_indexer] = value instead\n",
      "\n",
      "See the caveats in the documentation: https://pandas.pydata.org/pandas-docs/stable/user_guide/indexing.html#returning-a-view-versus-a-copy\n",
      "  AWND_df['YEAR'],AWND_df['MONTH'] = AWND_df['DATE'].str.split('-',1).str\n"
     ]
    },
    {
     "data": {
      "text/plain": [
       "<AxesSubplot:xlabel='YEAR'>"
      ]
     },
     "execution_count": 43,
     "metadata": {},
     "output_type": "execute_result"
    },
    {
     "data": {
      "image/png": "[encoded data removed]",
      "text/plain": [
       "<Figure size 432x288 with 1 Axes>"
      ]
     },
     "metadata": {
      "needs_background": "light"
     },
     "output_type": "display_data"
    }
   ],
   "source": [
    "# 4.1+4.2\n",
    "df1 = df.loc[:,('STATION','DATE','AWND')]\n",
    "AWND_df = df1.dropna()\n",
    "AWND_df['YEAR'],AWND_df['MONTH'] = AWND_df['DATE'].str.split('-',1).str\n",
    "AWND_df.reset_index(drop=True, inplace=True)\n",
    "AWND_df\n",
    "AWND_df.groupby('YEAR')['AWND'].mean().plot(kind='bar')"
   ]
  },
  {
   "cell_type": "code",
   "execution_count": 44,
   "id": "c951fe55",
   "metadata": {},
   "outputs": [
    {
     "name": "stderr",
     "output_type": "stream",
     "text": [
      "C:\\Users\\李彦辰\\AppData\\Local\\Temp/ipykernel_26296/3833181037.py:3: FutureWarning: Columnar iteration over characters will be deprecated in future releases.\n",
      "  df2['YEAR'],df2['MONTH'] = df2['DATE'].str.split('-',1).str\n"
     ]
    },
    {
     "data": {
      "text/plain": [
       "<AxesSubplot:xlabel='YEAR'>"
      ]
     },
     "execution_count": 44,
     "metadata": {},
     "output_type": "execute_result"
    },
    {
     "data": {
      "image/png": "[encoded data removed]",
      "text/plain": [
       "<Figure size 432x288 with 1 Axes>"
      ]
     },
     "metadata": {
      "needs_background": "light"
     },
     "output_type": "display_data"
    }
   ],
   "source": [
    "#4.3\n",
    "df2 = df.loc[:,('STATION','CDSD','CLDD','DATE','DYFG','DYHF','DYTS','EMNT','EMXT')]\n",
    "df2['YEAR'],df2['MONTH'] = df2['DATE'].str.split('-',1).str\n",
    "df2\n",
    "df2.groupby('YEAR')['DYHF'].max().plot()"
   ]
  },
  {
   "cell_type": "code",
   "execution_count": 47,
   "id": "1bbe7e7a",
   "metadata": {},
   "outputs": [
    {
     "data": {
      "text/plain": [
       "<AxesSubplot:xlabel='MONTH'>"
      ]
     },
     "execution_count": 47,
     "metadata": {},
     "output_type": "execute_result"
    },
    {
     "data": {
      "image/png": "[encoded data removed]",
      "text/plain": [
       "<Figure size 432x288 with 1 Axes>"
      ]
     },
     "metadata": {
      "needs_background": "light"
     },
     "output_type": "display_data"
    }
   ],
   "source": [
    "#4.4\n",
    "df2.sort_values(['CLDD'],ascending=False)[0:10]\n",
    "df2.groupby('MONTH')['CLDD'].mean().plot()"
   ]
  },
  {
   "cell_type": "code",
   "execution_count": 48,
   "id": "640dabc7",
   "metadata": {},
   "outputs": [
    {
     "data": {
      "text/plain": [
       "<AxesSubplot:xlabel='MONTH'>"
      ]
     },
     "execution_count": 48,
     "metadata": {},
     "output_type": "execute_result"
    },
    {
     "data": {
      "image/png": "[encoded data removed]",
      "text/plain": [
       "<Figure size 432x288 with 1 Axes>"
      ]
     },
     "metadata": {
      "needs_background": "light"
     },
     "output_type": "display_data"
    }
   ],
   "source": [
    "#4.5\n",
    "df2.sort_values(['EMNT'],ascending=False)[0:10]\n",
    "df2.groupby('MONTH')['EMNT'].mean().plot()"
   ]
  },
  {
   "cell_type": "code",
   "execution_count": null,
   "id": "9e298e42",
   "metadata": {},
   "outputs": [],
   "source": []
  },
  {
   "cell_type": "code",
   "execution_count": null,
   "id": "5a499138",
   "metadata": {},
   "outputs": [],
   "source": []
  }
 ],
 "metadata": {
  "kernelspec": {
   "display_name": "Python 3 (ipykernel)",
   "language": "python",
   "name": "python3"
  },
  "language_info": {
   "codemirror_mode": {
    "name": "ipython",
    "version": 3
   },
   "file_extension": ".py",
   "mimetype": "text/x-python",
   "name": "python",
   "nbconvert_exporter": "python",
   "pygments_lexer": "ipython3",
   "version": "3.9.7"
  }
 },
 "nbformat": 4,
 "nbformat_minor": 5
}
