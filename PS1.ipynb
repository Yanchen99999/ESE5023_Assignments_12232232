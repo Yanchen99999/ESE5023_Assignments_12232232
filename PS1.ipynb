{
 "cells": [
  {
   "cell_type": "code",
   "execution_count": 21,
   "id": "6a2788b4",
   "metadata": {},
   "outputs": [
    {
     "name": "stdout",
     "output_type": "stream",
     "text": [
      "10 11 58\n",
      "58 11 10\n",
      "-31\n",
      "[10, 5, 1]\n",
      "5\n"
     ]
    }
   ],
   "source": [
    "# 1.Flowchart\n",
    "import random\n",
    "a=round(random.random()*100)\n",
    "b=round(random.random()*100)\n",
    "c=round(random.random()*100)\n",
    "print(a,b,c)\n",
    "\n",
    "def Print_values(a, b, c):\n",
    "    list1 = []\n",
    "    if a > b:\n",
    "        if b > c:\n",
    "            list1 = [a, b, c]\n",
    "            print(list1)\n",
    "            print(a+b-10*c)\n",
    "        elif a > c:\n",
    "            list1 = [a, c, b]\n",
    "            print(list1)\n",
    "            print(a+c-10*b)\n",
    "        else:\n",
    "            list1 = [c, a, b]\n",
    "            print(list1)\n",
    "            print(c+a-10*b)\n",
    "    elif b > c:\n",
    "        print(list1.clear())\n",
    "        print(\"Please re-enter the values!\")\n",
    "    else:\n",
    "        list1 = [c, b, a]\n",
    "        print(c,b,a)\n",
    "        print(c+b-10*a)\n",
    "\n",
    "Print_values(a, b, c)\n",
    "Print_values(10, 5, 1)\n"
   ]
  },
  {
   "cell_type": "code",
   "execution_count": 22,
   "id": "8ae65fc4",
   "metadata": {},
   "outputs": [
    {
     "name": "stdout",
     "output_type": "stream",
     "text": [
      "N = 20\n",
      "[1, 5, 7, 13, 15, 17, 21, 23, 25, 33, 35, 37, 41, 43, 45, 49, 51, 53, 59, 61]\n"
     ]
    }
   ],
   "source": [
    "# 2 \n",
    "from math import ceil\n",
    "list1=[1]\n",
    "listN = input(\"N = \")\n",
    "m = int(listN)\n",
    "\n",
    "for i in range(2, m+1):\n",
    "    n = list1[ceil(i/3)-1]+2*i\n",
    "    list1.append(n)\n",
    "print(list1)"
   ]
  },
  {
   "cell_type": "code",
   "execution_count": 25,
   "id": "cd84fb61",
   "metadata": {},
   "outputs": [
    {
     "name": "stdout",
     "output_type": "stream",
     "text": [
      "4395456\n"
     ]
    }
   ],
   "source": [
    "# 3. Dice rolling\n",
    "# 3.1\n",
    "def Find_number_of_ways(n):\n",
    "    dp=[[0]*(6*n+1) for m in range(n+1)]\n",
    "\n",
    "    for x in range(1,7):\n",
    "        dp[1][x]=1\n",
    "\n",
    "    for i in range(2,n+1):\n",
    "        for x in range(i,6*i+1):\n",
    "            dp[i][x]=dp[i-1][x-1]+dp[i-1][x-2]+dp[i-1][x-3]+dp[i-1][x-4]+dp[i-1][x-5]+dp[i-1][x-6]\n",
    "\n",
    "    result=[]\n",
    "    for x in range(n,6*n+1):\n",
    "        result.append(dp[n][x])\n",
    "    return result\n",
    "Find_number_of_ways(10)\n",
    "\n",
    "# 3.2\n",
    "Number_of_ways = Find_number_of_ways(10)\n",
    "print(max(Number_of_ways))"
   ]
  },
  {
   "cell_type": "code",
   "execution_count": 27,
   "id": "029f62c1",
   "metadata": {
    "scrolled": true
   },
   "outputs": [
    {
     "name": "stdout",
     "output_type": "stream",
     "text": [
      "30.333333333333332\n",
      "[<matplotlib.lines.Line2D object at 0x00000254E252FDF0>]\n"
     ]
    },
    {
     "name": "stderr",
     "output_type": "stream",
     "text": [
      "C:\\Users\\李彦辰\\AppData\\Local\\Temp/ipykernel_20664/4051312354.py:19: RuntimeWarning: overflow encountered in long_scalars\n",
      "  result += (s*(Cnm1(len(arr) - 1, n - 1)))/n\n"
     ]
    },
    {
     "data": {
      "image/png": "[encoded data removed]",
      "text/plain": [
       "<Figure size 432x288 with 1 Axes>"
      ]
     },
     "metadata": {
      "needs_background": "light"
     },
     "output_type": "display_data"
    }
   ],
   "source": [
    "# 4\n",
    "# 4.1\n",
    "import numpy as np\n",
    "import math\n",
    "def Random_integer(N):\n",
    "    return np.random.randint(0, 11, N)\n",
    "\n",
    "# 4.2\n",
    "import math \n",
    "def Cnm1(n,m):\n",
    "    return math.factorial(n)//(math.factorial(n-m)*math.factorial(m))\n",
    "\n",
    "def Sum_averages1(arr):\n",
    "    result = 0\n",
    "    s = 0\n",
    "    for i in range(len(arr)):\n",
    "        s += arr[i]\n",
    "    for n in range(1, len(arr)+1):\n",
    "        result += (s*(Cnm1(len(arr) - 1, n - 1)))/n\n",
    "    return result\n",
    "\n",
    "arr = Random_integer(3)\n",
    "print(Sum_averages1(arr))\n",
    "\n",
    "# 4.3\n",
    "Total_sum_averages = []\n",
    "for N in range(1,101):\n",
    "    arr1 = Random_integer(N)\n",
    "    Total_sum_averages.append(Sum_averages1(arr1))\n",
    "    \n",
    "#print(Total_sum_averages)\n",
    "\n",
    "import matplotlib.pyplot as plt\n",
    "x = np.arange(1,101)\n",
    "y = np.array(Total_sum_averages)\n",
    "print(plt.plot(x,y))"
   ]
  },
  {
   "cell_type": "code",
   "execution_count": 30,
   "id": "768c5f0a",
   "metadata": {},
   "outputs": [
    {
     "name": "stdout",
     "output_type": "stream",
     "text": [
      "N = 10\n",
      "M = 8\n",
      "[[1 0 0 1 1 1 1 0]\n",
      " [0 1 1 0 1 0 0 0]\n",
      " [0 1 1 0 1 1 1 1]\n",
      " [1 0 0 0 1 1 0 1]\n",
      " [0 0 0 0 0 0 0 0]\n",
      " [1 0 1 1 0 1 1 0]\n",
      " [0 0 1 1 1 1 1 1]\n",
      " [0 0 1 0 1 0 0 0]\n",
      " [1 1 0 1 0 1 0 1]\n",
      " [0 0 0 0 1 1 0 1]]\n",
      "0.355\n"
     ]
    }
   ],
   "source": [
    "# 5\n",
    "# 5.1\n",
    "import numpy as np\n",
    "n = int(input(\"N = \"))\n",
    "m = int(input(\"M = \"))\n",
    "arr2 = np.random.randint(0,2,(n,m))\n",
    "arr2[[0,-1],[0,-1]]=1\n",
    "print(arr2)\n",
    "\n",
    "# 5.2\n",
    "def Count_path(arr2):\n",
    "    r = len(arr2)\n",
    "    c = len(arr2[0])\n",
    "    cache = [[0]*c for _ in range(r)]\n",
    "    cache[0][0] = 1\n",
    "    for i in range(r):\n",
    "        for j in range(c):\n",
    "            if (arr2[i][j] == 0):\n",
    "                cache[i][j] = 0\n",
    "            else:\n",
    "                if i > 0:\n",
    "                    cache[i][j]+=cache[i-1][j]\n",
    "                if j > 0:\n",
    "                    cache[i][j]+=cache[i][j-1]\n",
    "    return cache[-1][-1]\n",
    "Count_path(arr2)\n",
    "\n",
    "# 5.3\n",
    "s = 0\n",
    "for i in range(1000):\n",
    "    arr3 = np.random.randint(0,2,(10,8))\n",
    "    arr3[[0,-1],[0,-1]]=1\n",
    "    i = Count_path(arr3)\n",
    "    s += i\n",
    "#    print(i)\n",
    "print(s/1000)"
   ]
  },
  {
   "cell_type": "code",
   "execution_count": null,
   "id": "93d93a0b",
   "metadata": {},
   "outputs": [],
   "source": []
  }
 ],
 "metadata": {
  "kernelspec": {
   "display_name": "Python 3 (ipykernel)",
   "language": "python",
   "name": "python3"
  },
  "language_info": {
   "codemirror_mode": {
    "name": "ipython",
    "version": 3
   },
   "file_extension": ".py",
   "mimetype": "text/x-python",
   "name": "python",
   "nbconvert_exporter": "python",
   "pygments_lexer": "ipython3",
   "version": "3.9.7"
  }
 },
 "nbformat": 4,
 "nbformat_minor": 5
}
